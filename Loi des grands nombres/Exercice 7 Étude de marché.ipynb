{
 "cells": [
  {
   "cell_type": "markdown",
   "id": "317bd3f1",
   "metadata": {},
   "source": [
    "<center> <h1 style=\"background-color:#8A0B1D; padding: 4px; color:white\" >Étude de marché</h1> \n",
    "    \n",
    "<br>\n",
    "  \n",
    "<center><img\n",
    "src=\"https://henkinschultz.com/wp-content/uploads/2020/01/HS-blog-post-20-2048x1075.png\" \n",
    "             style=\"width:60%;height:60%;\">\n",
    "</center>\n",
    "    \n",
    "    \n",
    "<div class=\"list-group\" id=\"list-tab\" role=\"tablist\">\n",
    "    \n",
    "  <h3 class=\"list-group-item list-group-item-action active\" style=\"background-color:#8A0B1D; color:white\" data-toggle=\"list\"  role=\"tab\" aria-controls=\"home\">Sommaire</h3> \n",
    "  <a class=\"list-group-item list-group-item-action\" data-toggle=\"list\" href=\"#introduction\" role=\"tab\" aria-controls=\"profile\" style=\"color:#8A0B1D\">Introduction<span class=\"badge badge-primary badge-pill\" style=\"background-color:#AB1A2D; color:white\">1</span></a>\n",
    "  <a id=\"section2\" class=\"list-group-item list-group-item-action\" data-toggle=\"list\" href=\"#question1\" role=\"tab\" aria-controls=\"messages\" style=\"color:#8A0B1D\">Question n°01<span class=\"badge badge-primary badge-pill\" style=\"background-color:#8A0B1D; color:white\">2</span></a>\n",
    "  <a id=\"section2\" class=\"list-group-item list-group-item-action\" data-toggle=\"list\" href=\"#question2\" role=\"tab\" aria-controls=\"messages\" style=\"color:#8A0B1D\">Question n°02<span class=\"badge badge-primary badge-pill\" style=\"background-color:#8A0B1D; color:white\">3</span></a>\n",
    "  <a id=\"section2\" class=\"list-group-item list-group-item-action\" data-toggle=\"list\" href=\"#question3\" role=\"tab\" aria-controls=\"messages\" style=\"color:#8A0B1D\">Question n°03<span class=\"badge badge-primary badge-pill\" style=\"background-color:#8A0B1D; color:white\">4</span></a>\n",
    "  <a id=\"section2\" class=\"list-group-item list-group-item-action\" data-toggle=\"list\" href=\"#question4\" role=\"tab\" aria-controls=\"messages\" style=\"color:#8A0B1D\">Question n°04<span class=\"badge badge-primary badge-pill\" style=\"background-color:#8A0B1D; color:white\">5</span></a>\n",
    "  <a id=\"section2\" class=\"list-group-item list-group-item-action\" data-toggle=\"list\" href=\"#question5\" role=\"tab\" aria-controls=\"messages\" style=\"color:#8A0B1D\">Question n°05<span class=\"badge badge-primary badge-pill\" style=\"background-color:#8A0B1D; color:white\">6</span></a>\n",
    "    </div>"
   ]
  },
  {
   "cell_type": "markdown",
   "id": "27462de2",
   "metadata": {},
   "source": [
    "<a id='introduction'></a>\n",
    "# <div style=\" background-color:#8A0B1D; color:white; padding: 12px; line-height: 1.5;\">1. | Introduction</div>\n"
   ]
  },
  {
   "cell_type": "markdown",
   "id": "b6d8eafe",
   "metadata": {},
   "source": [
    "## <div style=\" background-color: #EC1836; color:white; padding: 10px; line-height: 1.5;\"> Énoncé\n",
    "</div>\n",
    "<div style=\"font-family: Segoe UI; line-height: 2; color: #000000; text-align: justify\">\n",
    "    \n",
    "   👉 Vous menez une étude de marché, dans laquelle vous souhaitez estimer <span style=\"background-color: #FCD4DA; color: #000000;\"><b> la proportion de personnes préférant le produit A.</b></span> Il est établi que la probabilité qu’une personne préfère <span style=\"background-color: #FCD4DA; color: #000000;\"><b> le produit A est de 40%.</b></span> \n",
    "</div>"
   ]
  },
  {
   "cell_type": "markdown",
   "id": "976aa572",
   "metadata": {},
   "source": [
    "## <div style=\" background-color: #EC1836; color:white; padding: 10px; line-height: 1.5;\"> Importer les bibliothèques 📚\n",
    "</div>"
   ]
  },
  {
   "cell_type": "code",
   "execution_count": 18,
   "id": "7bc48027",
   "metadata": {},
   "outputs": [],
   "source": [
    "import numpy as np\n",
    "import matplotlib.pyplot as plt"
   ]
  },
  {
   "cell_type": "markdown",
   "id": "cb80e696",
   "metadata": {},
   "source": [
    "<a id='question1'></a>\n",
    "# <div style=\" background-color:#8A0B1D; color:white; padding: 12px; line-height: 1.5;\">2. | Question n°01</div>\n"
   ]
  },
  {
   "cell_type": "markdown",
   "id": "a8a316c7",
   "metadata": {},
   "source": [
    "<div style=\"font-family: Segoe UI; font-size: 16px; line-height: 2; color: #000000; text-align: justify\">\n",
    "Réalisez un échantillon de <span style=\"background-color: #FCD4DA; color: #000000;\"><b>50 personnes</b></span> parmi les 1 000 de la population. <span style=\"background-color: #FCD4DA; color: #000000;\"><b>Déterminez combien préfère le produit A.</b></span>\n",
    "    </div>"
   ]
  },
  {
   "cell_type": "code",
   "execution_count": 25,
   "id": "bac9f323",
   "metadata": {},
   "outputs": [
    {
     "data": {
      "text/plain": [
       "19"
      ]
     },
     "execution_count": 25,
     "metadata": {},
     "output_type": "execute_result"
    }
   ],
   "source": [
    "np.random.seed(42)\n",
    "\n",
    "# Générer un nombre aléatoire avec une probabilité de 40% que l'événement souhaité apparaissent\n",
    "\n",
    "np.random.binomial(50, 0.40)"
   ]
  },
  {
   "cell_type": "markdown",
   "id": "1e329012",
   "metadata": {},
   "source": [
    "<div style=\"font-family: Segoe UI; line-height: 2; color: #000000; text-align: justify\">\n",
    "    \n",
    "   Dans notre échantillon de 50 personnes, <span style=\"background-color: #FCD4DA; color: #000000;\"><b>19 tickets sont des « 1 »,</b></span> soit 19 personnes préfèrent le produit A.\n",
    "</div>"
   ]
  },
  {
   "cell_type": "markdown",
   "id": "6d93c877",
   "metadata": {},
   "source": [
    "<a id='question2'></a>\n",
    "# <div style=\" background-color:#8A0B1D; color:white; padding: 12px; line-height: 1.5;\">3. | Question n°02</div>\n"
   ]
  },
  {
   "cell_type": "markdown",
   "id": "e6f5a8a3",
   "metadata": {},
   "source": [
    "<div style=\"font-family: Segoe UI; font-size: 16px; line-height: 2; color: #000000; text-align: justify\">\n",
    "Calculez <span style=\"background-color: #FCD4DA; color: #000000;\"><b>la proportion de personnes préférant le produit A</b></span> dans cet échantillon initial de 50 personnes.\n",
    "    </div>"
   ]
  },
  {
   "cell_type": "code",
   "execution_count": 26,
   "id": "1aec1bab",
   "metadata": {},
   "outputs": [
    {
     "data": {
      "text/plain": [
       "38.0"
      ]
     },
     "execution_count": 26,
     "metadata": {},
     "output_type": "execute_result"
    }
   ],
   "source": [
    "(19/50) *100"
   ]
  },
  {
   "cell_type": "markdown",
   "id": "404c6f1f",
   "metadata": {},
   "source": [
    "<div style=\"font-family: Segoe UI; line-height: 2; color: #000000; text-align: justify\">\n",
    "    \n",
    "   <span style=\"background-color: #FCD4DA; color: #000000;\"><b>38% des personnes préfèrent le produit A,</b></span> tandis que dans la population, <span style=\"background-color: #FCD4DA; color: #000000;\"><b>40% préfèrent le produit A.</b></span> La différence est relativement petite. \n",
    "</div>"
   ]
  },
  {
   "cell_type": "markdown",
   "id": "77a3b97c",
   "metadata": {},
   "source": [
    "<a id='question3'></a>\n",
    "# <div style=\" background-color:#8A0B1D; color:white; padding: 12px; line-height: 1.5;\">4. | Question n°03</div>\n"
   ]
  },
  {
   "cell_type": "markdown",
   "id": "5961e954",
   "metadata": {},
   "source": [
    "<div style=\"font-family: Segoe UI; font-size: 16px; line-height: 2; color: #000000; text-align: justify\">\n",
    "Répétez cette étape <span style=\"background-color: #FCD4DA; color: #000000;\"><b>20 fois,</b></span> pour obtenir 20 échantillons différents de 50 personnes à chaque fois. Chaque fois, calculez <span style=\"background-color: #FCD4DA; color: #000000;\"><b>la proportion de personnes préférant le produit A</b></span> et enregistrez les proportions dans une liste.\n",
    "    </div>"
   ]
  },
  {
   "cell_type": "markdown",
   "id": "60d41673",
   "metadata": {},
   "source": [
    "## <div style=\" background-color: #EC1836; color:white; padding: 10px; line-height: 1.5;\"> 1<sup>ère</sup> méthode\n",
    "</div>"
   ]
  },
  {
   "cell_type": "code",
   "execution_count": 28,
   "id": "411676dc",
   "metadata": {},
   "outputs": [
    {
     "data": {
      "text/plain": [
       "[19,\n",
       " 26,\n",
       " 22,\n",
       " 21,\n",
       " 16,\n",
       " 16,\n",
       " 15,\n",
       " 24,\n",
       " 21,\n",
       " 22,\n",
       " 13,\n",
       " 27,\n",
       " 23,\n",
       " 17,\n",
       " 17,\n",
       " 17,\n",
       " 18,\n",
       " 20,\n",
       " 19,\n",
       " 18]"
      ]
     },
     "execution_count": 28,
     "metadata": {},
     "output_type": "execute_result"
    }
   ],
   "source": [
    "np.random.seed(42)\n",
    "\n",
    "# Liste qui va contenir tous les échantillons\n",
    "echantillon = []\n",
    "\n",
    "for i in range(20):\n",
    "\n",
    "    echantillon.append(np.random.binomial(50, 0.40))\n",
    "\n",
    "echantillon"
   ]
  },
  {
   "cell_type": "code",
   "execution_count": 29,
   "id": "ffd8fd43",
   "metadata": {},
   "outputs": [
    {
     "data": {
      "text/plain": [
       "[0.38,\n",
       " 0.52,\n",
       " 0.44,\n",
       " 0.42,\n",
       " 0.32,\n",
       " 0.32,\n",
       " 0.3,\n",
       " 0.48,\n",
       " 0.42,\n",
       " 0.44,\n",
       " 0.26,\n",
       " 0.54,\n",
       " 0.46,\n",
       " 0.34,\n",
       " 0.34,\n",
       " 0.34,\n",
       " 0.36,\n",
       " 0.4,\n",
       " 0.38,\n",
       " 0.36]"
      ]
     },
     "execution_count": 29,
     "metadata": {},
     "output_type": "execute_result"
    }
   ],
   "source": [
    "proportion = []\n",
    "\n",
    "for i in echantillon:\n",
    "    \n",
    "    proportion.append(i / 50)\n",
    "    \n",
    "proportion"
   ]
  },
  {
   "cell_type": "markdown",
   "id": "0a2449af",
   "metadata": {},
   "source": [
    "## <div style=\" background-color: #EC1836; color:white; padding: 10px; line-height: 1.5;\"> 2<sup>ème</sup> méthode\n",
    "</div>"
   ]
  },
  {
   "cell_type": "code",
   "execution_count": 31,
   "id": "9b46aae4",
   "metadata": {},
   "outputs": [
    {
     "data": {
      "text/plain": [
       "array([19, 26, 22, 21, 16, 16, 15, 24, 21, 22, 13, 27, 23, 17, 17, 17, 18,\n",
       "       20, 19, 18])"
      ]
     },
     "execution_count": 31,
     "metadata": {},
     "output_type": "execute_result"
    }
   ],
   "source": [
    "np.random.seed(42)\n",
    "\n",
    "echantillon_2 = np.random.binomial(50, 0.40, size = 20)\n",
    "echantillon_2"
   ]
  },
  {
   "cell_type": "code",
   "execution_count": 32,
   "id": "75d15937",
   "metadata": {},
   "outputs": [
    {
     "data": {
      "text/plain": [
       "array([0.38, 0.52, 0.44, 0.42, 0.32, 0.32, 0.3 , 0.48, 0.42, 0.44, 0.26,\n",
       "       0.54, 0.46, 0.34, 0.34, 0.34, 0.36, 0.4 , 0.38, 0.36])"
      ]
     },
     "execution_count": 32,
     "metadata": {},
     "output_type": "execute_result"
    }
   ],
   "source": [
    "proportion_2 = echantillon_2/50\n",
    "proportion_2"
   ]
  },
  {
   "cell_type": "markdown",
   "id": "8aeb8296",
   "metadata": {},
   "source": [
    "  "
   ]
  },
  {
   "cell_type": "markdown",
   "id": "96972420",
   "metadata": {},
   "source": [
    "<a id='question4'></a>\n",
    "# <div style=\" background-color:#8A0B1D; color:white; padding: 12px; line-height: 1.5;\">5. | Question n°04</div>\n"
   ]
  },
  {
   "cell_type": "markdown",
   "id": "2f53772c",
   "metadata": {},
   "source": [
    "<div style=\"font-family: Segoe UI; font-size: 16px; line-height: 2; color: #000000; text-align: justify\">\n",
    "Analysez les résultats de vos <span style=\"background-color: #FCD4DA; color: #000000;\"><b> 20 échantillons en calculant la moyenne de ces échantillons.</b></span>\n",
    "    </div>"
   ]
  },
  {
   "cell_type": "code",
   "execution_count": 34,
   "id": "25992104",
   "metadata": {},
   "outputs": [
    {
     "data": {
      "text/plain": [
       "19.55"
      ]
     },
     "execution_count": 34,
     "metadata": {},
     "output_type": "execute_result"
    }
   ],
   "source": [
    "moyenne = np.mean(echantillon_2)\n",
    "moyenne"
   ]
  },
  {
   "cell_type": "markdown",
   "id": "dbdbabdd",
   "metadata": {},
   "source": [
    "<div style=\"font-family: Segoe UI;  line-height: 2; color: #000000; text-align: justify\">\n",
    "La moyenne des 20 échantillons est de <span style=\"background-color: #FCD4DA; color: #000000;\"><b>19,55.</b></span> Ce qui extrêmement proche de la valeur attendue qui est de 20. <span style=\"background-color: #FCD4DA; color: #000000;\"><b>Ce résultat indique que nos résultats sont cohérents avec la population.</b></span>\n",
    "        </div>"
   ]
  },
  {
   "cell_type": "markdown",
   "id": "d7301edb",
   "metadata": {},
   "source": [
    "<a id='question5'></a>\n",
    "# <div style=\" background-color:#8A0B1D; color:white; padding: 12px; line-height: 1.5;\">6. | Question n°05</div>\n"
   ]
  },
  {
   "cell_type": "markdown",
   "id": "d322d286",
   "metadata": {},
   "source": [
    "<div style=\"font-family: Segoe UI; font-size: 16px; line-height: 2; color: #000000; text-align: justify\">\n",
    "Voici une représentation graphique des échantillons.\n",
    "    </div>"
   ]
  },
  {
   "cell_type": "code",
   "execution_count": 35,
   "id": "e3c859ae",
   "metadata": {},
   "outputs": [
    {
     "data": {
      "image/png": "[encoded data removed]",
      "text/plain": [
       "<Figure size 2000x1200 with 1 Axes>"
      ]
     },
     "metadata": {},
     "output_type": "display_data"
    }
   ],
   "source": [
    "# Taille de l'image\n",
    "plt.figure(figsize=(10,6), dpi = 200)\n",
    "\n",
    "# Diagramme en bâtons horizontal\n",
    "plt.barh(list(range(1,21)), echantillon_2, alpha = 0.7)\n",
    "\n",
    "# Échelle de y\n",
    "plt.yticks(range(1, 21, 1))\n",
    "\n",
    "# Droite verticale\n",
    "plt.axvline(x=20, color='red', linestyle='--')\n",
    "\n",
    "# Étiquettes\n",
    "plt.xlabel('Nombre de \"1\"')\n",
    "plt.ylabel('Échantillon')\n",
    "plt.title('Diagramme en bâtons des échantillons préférant le produit A')\n",
    "\n",
    "plt.show()"
   ]
  },
  {
   "cell_type": "markdown",
   "id": "69e8378f",
   "metadata": {},
   "source": [
    "<div style=\"font-family: Segoe UI; line-height: 2; color: #000000; text-align: justify\">\n",
    "\n",
    "L’axe des « y » <span style=\"background-color: #FCD4DA; color: #000000;\"><b>représente les échantillons</b></span> et l’axe des « x » <span style=\"background-color: #FCD4DA; color: #000000;\"><b>représente la fréquence de « 1 »</b></span> ou le nombre de « 1 » dans chaque échantillon.\n",
    "\n",
    "Par exemple, <span style=\"background-color: #FCD4DA; color: #000000;\"><b>le premier échantillon se situe ici avec 19 « 1 ».</b></span> C’est-à-dire que dans le premier échantillon 19 personnes préfèrent le produit A.\n",
    "\n",
    "La droite verticale en rouge <span style=\"background-color: #FCD4DA; color: #000000;\"><b>représente le nombre de « 1 » attendue.</b></span> <span style=\"background-color: #FCD4DA; color: #000000;\"><b>La valeur attendue est égale à 20</b></span> pour un échantillon de 50 personnes.\n",
    "\n",
    "  </div>"
   ]
  },
  {
   "cell_type": "markdown",
   "id": "f2203738",
   "metadata": {},
   "source": [
    "  "
   ]
  },
  {
   "cell_type": "markdown",
   "id": "7867449f",
   "metadata": {},
   "source": [
    "<div style=\"font-family: Segoe UI; font-size: 16px; line-height: 2; color: #000000; text-align: justify\">\n",
    "<b><u>Que pouvez-conclure ?</u></b>\n",
    "    </div>"
   ]
  },
  {
   "cell_type": "markdown",
   "id": "24a70ba8",
   "metadata": {},
   "source": [
    "  "
   ]
  },
  {
   "cell_type": "markdown",
   "id": "6368551e",
   "metadata": {},
   "source": [
    "<div style=\"font-family: Segoe UI; line-height: 2; color: #000000; text-align: justify\">\n",
    "\n",
    "Nous observons que pour chaque échantillon, <span style=\"background-color: #FCD4DA; color: #000000;\"><b>nous avons des résultats différents.</b></span> Le nombre de personnes préférant le produit A <span style=\"background-color: #FCD4DA; color: #000000;\"><b>varie d’un échantillon à l’autre.</b></span> \n",
    "\n",
    "Il y a des échantillons<span style=\"background-color: #FCD4DA; color: #000000;\"><b> très éloignés de la valeur attendue,</b></span> comme le 11ème échantillon ou le 12ème échantillon. Mais <span style=\"background-color: #FCD4DA; color: #000000;\"><b>la majorité</b></span> des échantillons sont proches de la valeur attendue de 20.\n",
    "\n",
    "Même si <span style=\"background-color: #FCD4DA; color: #000000;\"><b>la moyenne des échantillons est précise (19,55),</b></span> <span style=\"background-color: #FCD4DA; color: #000000;\"><b>il y a une marge d’erreur due à la variabilité des échantillons.</b></span> Ce qui est logique car quand nous piochons depuis une boîte, nous n’avons pas toujours les mêmes résultats.\n",
    "\n",
    "Ce que nous dit <span style=\"background-color: #FCD4DA; color: #000000;\"><b>la loi des grands nombres</b></span> est que <span style=\"background-color: #FCD4DA; color: #000000;\"><b>plus l’échantillon est petit, plus la variabilité en % sera grande,</b></span> et par conséquent l’échantillon sera moins représentatif de la population. Et inversement, <span style=\"background-color: #FCD4DA; color: #000000;\"><b>plus la taille de l’échantillon sera grande, moins la variabilité en % sera grande,</b></span> et par conséquent l’échantillon sera plus représentatif de la population. <span style=\"background-color: #FCD4DA; color: #000000;\"><b>D’où l’importance de prendre des échantillons de tailles suffisante.</b></span>\n",
    "\n",
    "  </div>"
   ]
  },
  {
   "cell_type": "code",
   "execution_count": null,
   "id": "25ca09e6",
   "metadata": {},
   "outputs": [],
   "source": []
  }
 ],
 "metadata": {
  "kernelspec": {
   "display_name": "Python 3 (ipykernel)",
   "language": "python",
   "name": "python3"
  },
  "language_info": {
   "codemirror_mode": {
    "name": "ipython",
    "version": 3
   },
   "file_extension": ".py",
   "mimetype": "text/x-python",
   "name": "python",
   "nbconvert_exporter": "python",
   "pygments_lexer": "ipython3",
   "version": "3.11.4"
  }
 },
 "nbformat": 4,
 "nbformat_minor": 5
}
