{
 "cells": [
  {
   "cell_type": "markdown",
   "id": "048e8500",
   "metadata": {},
   "source": [
    "<center> <h1 style=\"background-color:#1C4D7E; padding: 4px; color:white\" >Modélisation des pertes potentielles sur les prêts en banque</h1> \n",
    "    \n",
    "<br>\n",
    "  \n",
    "<center><img\n",
    "src=\"https://www.techfunnel.com/wp-content/uploads/2021/07/benefits_of_business_loans.png\" \n",
    "             style=\"width:60%;height:60%;\">\n",
    "</center>\n",
    "    \n",
    "    \n",
    "<div class=\"list-group\" id=\"list-tab\" role=\"tablist\">\n",
    "    \n",
    "  <h3 class=\"list-group-item list-group-item-action active\" style=\"background-color:#1C4D7E; color:white\" data-toggle=\"list\"  role=\"tab\" aria-controls=\"home\">Sommaire</h3> \n",
    "  <a class=\"list-group-item list-group-item-action\" data-toggle=\"list\" href=\"#introduction\" role=\"tab\" aria-controls=\"profile\" style=\"color:#1C4D7E\">Introduction<span class=\"badge badge-primary badge-pill\" style=\"background-color:#1C4D7E; color:white\">1</span></a>\n",
    "  <a id=\"section2\" class=\"list-group-item list-group-item-action\" data-toggle=\"list\" href=\"#question1\" role=\"tab\" aria-controls=\"messages\" style=\"color:#333F4F\">Question n°01<span class=\"badge badge-primary badge-pill\" style=\"background-color:#1C4D7E; color:white\">2</span></a>\n",
    "  <a id=\"section2\" class=\"list-group-item list-group-item-action\" data-toggle=\"list\" href=\"#question2\" role=\"tab\" aria-controls=\"messages\" style=\"color:#1C4D7E\">Question n°02<span class=\"badge badge-primary badge-pill\" style=\"background-color:#1C4D7E; color:white\">3</span></a>\n",
    "  <a id=\"section2\" class=\"list-group-item list-group-item-action\" data-toggle=\"list\" href=\"#question3\" role=\"tab\" aria-controls=\"messages\" style=\"color:#1C4D7E\">Question n°03<span class=\"badge badge-primary badge-pill\" style=\"background-color:#1C4D7E; color:white\">4</span></a>\n",
    "  <a id=\"section2\" class=\"list-group-item list-group-item-action\" data-toggle=\"list\" href=\"#question4\" role=\"tab\" aria-controls=\"messages\" style=\"color:#1C4D7E\">Question n°04<span class=\"badge badge-primary badge-pill\" style=\"background-color:#1C4D7E; color:white\">5</span></a>\n",
    "    "
   ]
  },
  {
   "cell_type": "markdown",
   "id": "b2e8020c",
   "metadata": {},
   "source": [
    "<a id='introduction'></a>\n",
    "# <div style=\" background-color:#1C4D7E; color:white; padding: 12px; line-height: 1.5;\">1. | Introduction</div>\n"
   ]
  },
  {
   "cell_type": "markdown",
   "id": "eb15feae",
   "metadata": {},
   "source": [
    "## <div style=\" background-color: #2F75BB; color:white; padding: 10px; line-height: 1.5;\"> Énoncé\n",
    "</div>\n",
    "<div style=\"font-family: Segoe UI; line-height: 2; color: #000000; text-align: justify\">\n",
    "    \n",
    "   👉 Une banque a accordé <span style=\"background-color: #C7DCF1; color: #000000;\"><b>500 prêts</b></span> ce trimestre, et <span style=\"background-color: #C7DCF1; color: #000000;\"><b>le taux de défaut sur ces prêts est estimé à 12%</b></span>. Si un prêt se solde par un défaut, la banque subira <span style=\"background-color: #C7DCF1; color: #000000;\"><b>une perte de 30 000 €</b></span>. On suppose que chaque prêt est indépendant des autres et suit une distribution binaire (binomiale) avec <span style=\"background-color: #C7DCF1; color: #000000;\"><b>une probabilité de défaut de 12%</b></span>.\n",
    "</div>"
   ]
  },
  {
   "cell_type": "markdown",
   "id": "369af122",
   "metadata": {},
   "source": [
    "## <div style=\" background-color: #2F75BB; color:white; padding: 10px; line-height: 1.5;\"> Importer les bibliothèques 📚\n",
    "</div>"
   ]
  },
  {
   "cell_type": "markdown",
   "id": "c4f03f38",
   "metadata": {},
   "source": [
    "  "
   ]
  },
  {
   "cell_type": "code",
   "execution_count": 1,
   "id": "ae655175",
   "metadata": {},
   "outputs": [],
   "source": [
    "# Importer la fonction \"comb\" depuis le module math.\n",
    "\n",
    "from math import comb"
   ]
  },
  {
   "cell_type": "markdown",
   "id": "22296a2f",
   "metadata": {},
   "source": [
    "<div style=\"font-family: Segoe UI; line-height: 2; color: #000000; text-align: justify\">\n",
    "    \n",
    "   <span style=\"background-color: #C7DCF1; color: #000000;\"><b>\"Comb\"</b></span> est une fonction pour calculer <span style=\"background-color: #C7DCF1; color: #000000;\"><b>le coefficient binomial.</b></span>\n",
    "</div>"
   ]
  },
  {
   "cell_type": "markdown",
   "id": "5bab42cc",
   "metadata": {},
   "source": [
    "$$ C(n, k) = \\frac{n!}{k!(n-k)!} $$\n"
   ]
  },
  {
   "cell_type": "code",
   "execution_count": 2,
   "id": "d03bd406",
   "metadata": {},
   "outputs": [
    {
     "data": {
      "text/plain": [
       "10"
      ]
     },
     "execution_count": 2,
     "metadata": {},
     "output_type": "execute_result"
    }
   ],
   "source": [
    "# Le nombre de combinaisons avec 5 tirages et avoir exactement 2 éléments.\n",
    "\n",
    "comb(5, 2)"
   ]
  },
  {
   "cell_type": "markdown",
   "id": "f78a5174",
   "metadata": {},
   "source": [
    "<div style=\"font-family: Segoe UI; line-height: 2; color: #000000; text-align: justify\">\n",
    "    \n",
    "   Il y a 10 combinaisons possibles.\n",
    "</div>"
   ]
  },
  {
   "cell_type": "code",
   "execution_count": 3,
   "id": "aa301c2f",
   "metadata": {},
   "outputs": [],
   "source": [
    "# La fonction de la loi binomiale :\n",
    "\n",
    "def binomial_formula(n, k, p):\n",
    "    return comb(n, k) * (p**k) * ((1-p)**(n-k)) "
   ]
  },
  {
   "cell_type": "markdown",
   "id": "3726dab8",
   "metadata": {},
   "source": [
    "$$ C(n, k) \\cdot p^k \\cdot (1-p)^{n-k} $$\n"
   ]
  },
  {
   "cell_type": "markdown",
   "id": "102ef689",
   "metadata": {},
   "source": [
    "  "
   ]
  },
  {
   "cell_type": "markdown",
   "id": "1dd1b901",
   "metadata": {},
   "source": [
    "<a id='question1'></a>\n",
    "# <div style=\" background-color:#1C4D7E; color:white; padding: 12px; line-height: 1.5;\">2. | Question n°01</div>\n"
   ]
  },
  {
   "cell_type": "markdown",
   "id": "47123bdf",
   "metadata": {},
   "source": [
    "<div style=\"font-family: Segoe UI; font-size: 16px; line-height: 2; color: #000000; text-align: justify\">\n",
    "Quelle est la probabilité qu'exactement <span style=\"background-color: #C7DCF1; color: #000000;\"><b>60 prêts</b></span> parmi <span style=\"background-color: #C7DCF1; color: #000000;\"><b>les 500 accordés se soldent par un défaut ?</b></span>\n",
    "    </div>"
   ]
  },
  {
   "cell_type": "code",
   "execution_count": 10,
   "id": "acfabd03",
   "metadata": {},
   "outputs": [
    {
     "data": {
      "text/plain": [
       "5.48"
      ]
     },
     "execution_count": 10,
     "metadata": {},
     "output_type": "execute_result"
    }
   ],
   "source": [
    "round(binomial_formula(500, 60, 0.12),4)*100"
   ]
  },
  {
   "cell_type": "markdown",
   "id": "2f59d248",
   "metadata": {},
   "source": [
    "<div style=\"font-family: Segoe UI; line-height: 2; color: #000000; text-align: justify\">\n",
    "    \n",
    "   La probabilité qu’exactement 60 prêts se soldent par un défaut est de <span style=\"background-color: #C7DCF1; color: #000000;\"><b>5.48%.</b></span>\n",
    "</div>"
   ]
  },
  {
   "cell_type": "code",
   "execution_count": 11,
   "id": "0c7bf353",
   "metadata": {},
   "outputs": [
    {
     "data": {
      "text/plain": [
       "1800000"
      ]
     },
     "execution_count": 11,
     "metadata": {},
     "output_type": "execute_result"
    }
   ],
   "source": [
    "# 60 prêts, chaque prêt est égale à une perte de 30 000€\n",
    "\n",
    "60*30_000"
   ]
  },
  {
   "cell_type": "markdown",
   "id": "f9333fc1",
   "metadata": {},
   "source": [
    "<div style=\"font-family: Segoe UI; line-height: 2; color: #000000; text-align: justify\">\n",
    "    \n",
    "   Ce qui correspond à une perte de <span style=\"background-color: #C7DCF1; color: #000000;\"><b>1 800 000€.</b></span>\n",
    "</div>"
   ]
  },
  {
   "cell_type": "markdown",
   "id": "734945b7",
   "metadata": {},
   "source": [
    "  "
   ]
  },
  {
   "cell_type": "markdown",
   "id": "89dddd29",
   "metadata": {},
   "source": [
    "<a id='question2'></a>\n",
    "# <div style=\" background-color:#1C4D7E; color:white; padding: 12px; line-height: 1.5;\">3. | Question n°02</div>\n"
   ]
  },
  {
   "cell_type": "markdown",
   "id": "778d637a",
   "metadata": {},
   "source": [
    "<div style=\"font-family: Segoe UI; font-size: 16px; line-height: 2; color: #000000; text-align: justify\">\n",
    "Quelle est la probabilité qu'au moins <span style=\"background-color: #C7DCF1; color: #000000;\"><b>70 prêts</b></span> parmi <span style=\"background-color: #C7DCF1; color: #000000;\"><b>les 500 accordés se soldent par un défaut ?</b></span>\n",
    "    </div>"
   ]
  },
  {
   "cell_type": "code",
   "execution_count": 24,
   "id": "6c8db9e2",
   "metadata": {},
   "outputs": [
    {
     "data": {
      "text/plain": [
       "9.742"
      ]
     },
     "execution_count": 24,
     "metadata": {},
     "output_type": "execute_result"
    }
   ],
   "source": [
    "# Créer une liste vide qui va contenir toutes les probabilités supérieures ou égales à 70\n",
    "plus_grand_que_70 = []\n",
    "\n",
    "# Avec une boucle for, calculer chaque probabilité supérieur à 70\n",
    "for i in range(70, 501):\n",
    "    # Enregistrer chaque probabilité dans la liste\n",
    "    plus_grand_que_70.append(binomial_formula(500, i, 0.12))\n",
    "\n",
    "# Faire la somme de la liste\n",
    "round(sum(plus_grand_que_70),5)*100\n",
    "    "
   ]
  },
  {
   "cell_type": "markdown",
   "id": "b924b1b9",
   "metadata": {},
   "source": [
    "<div style=\"font-family: Segoe UI; line-height: 2; color: #000000; text-align: justify\">\n",
    "    \n",
    "   La probabilité qu’au moins 70 prêts se soldent par un défaut est de <span style=\"background-color: #C7DCF1; color: #000000;\"><b>9.74%.</b></span>\n",
    "</div>"
   ]
  },
  {
   "cell_type": "markdown",
   "id": "6a3540f3",
   "metadata": {},
   "source": [
    "  "
   ]
  },
  {
   "cell_type": "markdown",
   "id": "4ed7ea26",
   "metadata": {},
   "source": [
    "<a id='question3'></a>\n",
    "# <div style=\" background-color:#1C4D7E; color:white; padding: 12px; line-height: 1.5;\">4. | Question n°03</div>\n"
   ]
  },
  {
   "cell_type": "markdown",
   "id": "c08cf441",
   "metadata": {},
   "source": [
    "<div style=\"font-family: Segoe UI; font-size: 16px; line-height: 2; color: #000000; text-align: justify\">\n",
    "Quelle est la probabilité que la perte totale due aux défauts de prêt <span style=\"background-color: #C7DCF1; color: #000000;\"><b>dépasse 1 000 000 € ?</b></span>\n",
    "    </div>"
   ]
  },
  {
   "cell_type": "code",
   "execution_count": 30,
   "id": "43d4cbdc",
   "metadata": {},
   "outputs": [
    {
     "data": {
      "text/plain": [
       "33.33"
      ]
     },
     "execution_count": 30,
     "metadata": {},
     "output_type": "execute_result"
    }
   ],
   "source": [
    "# Le nombre de prêts qui égale à 1 000 000 € de perte est :\n",
    "round(1_000_000/30_000, 2)"
   ]
  },
  {
   "cell_type": "markdown",
   "id": "126cd7b5",
   "metadata": {},
   "source": [
    "<div style=\"font-family: Segoe UI; line-height: 2; color: #000000; text-align: justify\">\n",
    "    \n",
    "   Au bout de <span style=\"background-color: #C7DCF1; color: #000000;\"><b>33.33 défauts,</b></span> la perte sera égale à 1 000 000 €.\n",
    "</div>"
   ]
  },
  {
   "cell_type": "code",
   "execution_count": 33,
   "id": "c3325df7",
   "metadata": {},
   "outputs": [
    {
     "data": {
      "text/plain": [
       "99.9956"
      ]
     },
     "execution_count": 33,
     "metadata": {},
     "output_type": "execute_result"
    }
   ],
   "source": [
    "# Créer une liste qui va contenir toutes les probabilités supérieures ou égales à 34\n",
    "plus_grand_que_34 = []\n",
    "\n",
    "# Avec une boucle for, calculer toutes les probabilités supérieures à 34\n",
    "for i in range(34, 501):\n",
    "    # Enregistrer chaque probabilité dans la liste\n",
    "    plus_grand_que_34.append(binomial_formula(500, i, 0.12))\n",
    "\n",
    "# Faire la somme de la liste\n",
    "round(sum(plus_grand_que_34),6)*100"
   ]
  },
  {
   "cell_type": "markdown",
   "id": "da5c024e",
   "metadata": {},
   "source": [
    "<div style=\"font-family: Segoe UI; line-height: 2; color: #000000; text-align: justify\">\n",
    "    \n",
    "   La probabilité que la perte totale due aux défauts de prêt dépasse 1 000 000 € est de <span style=\"background-color: #C7DCF1; color: #000000;\"><b>99,99%.</b></span>\n",
    "</div>"
   ]
  },
  {
   "cell_type": "markdown",
   "id": "1fc8ef80",
   "metadata": {},
   "source": [
    "  "
   ]
  },
  {
   "cell_type": "markdown",
   "id": "14b70c88",
   "metadata": {},
   "source": [
    "<a id='question4'></a>\n",
    "# <div style=\" background-color:#1C4D7E; color:white; padding: 12px; line-height: 1.5;\">5. | Question n°04</div>\n"
   ]
  },
  {
   "cell_type": "markdown",
   "id": "0b1525c2",
   "metadata": {},
   "source": [
    "<div style=\"font-family: Segoe UI; font-size: 16px; line-height: 2; color: #000000; text-align: justify\">\n",
    "<u>Que pouvez-vous conclure sur la banque ?</u>\n",
    "    </div>"
   ]
  },
  {
   "cell_type": "markdown",
   "id": "e6689c9c",
   "metadata": {},
   "source": [
    "<div style=\"font-family: Segoe UI; line-height: 2; color: #000000; text-align: justify\">\n",
    "    \n",
    "    \n",
    "La banque accorde <span style=\"background-color: #C7DCF1; color: #000000;\"><b>trop de prêts qui se soldent par un défaut</b></span>. Le fait que la probabilité de perdre au moins 1 000 000 € est de 99%, nous fait réfléchir sur l’obtention des prêts accordées. Si vous êtes data scientist, vous devriez conseiller à la banque de <span style=\"background-color: #C7DCF1; color: #000000;\"><b>créer un modèle de machine learning</b></span>, qui va détecter les clients qui sont plus susceptibles de faire défaut.\n",
    "    <br>\n",
    "<u>Cela aura 2 buts :</u> \n",
    "- <span style=\"background-color: #C7DCF1; color: #000000;\"><b>Diminuer</b></span> la probabilité qu’un prêt se solde par un défaut.\n",
    "- <span style=\"background-color: #C7DCF1; color: #000000;\"><b>Mieux</b></span> gérer le risque d’un défaut, en appliquant un taux d’intérêt plus élevé.\n",
    "\n",
    "    \n",
    "Vous voyez comment un modèle de machine learning peut se créer. Nous avons un problème, <span style=\"background-color: #C7DCF1; color: #000000;\"><b>des pertes conséquentes dues à une mauvaise gestion des prêts accordés</b></span>, le modèle de machine learning va détecter les clients les plus probables de faire défaut, ce qui sera un gain considérable pour l’entreprise.\n",
    "</div>\n"
   ]
  },
  {
   "cell_type": "code",
   "execution_count": null,
   "id": "30d6178e",
   "metadata": {},
   "outputs": [],
   "source": []
  }
 ],
 "metadata": {
  "kernelspec": {
   "display_name": "Python 3 (ipykernel)",
   "language": "python",
   "name": "python3"
  },
  "language_info": {
   "codemirror_mode": {
    "name": "ipython",
    "version": 3
   },
   "file_extension": ".py",
   "mimetype": "text/x-python",
   "name": "python",
   "nbconvert_exporter": "python",
   "pygments_lexer": "ipython3",
   "version": "3.11.4"
  }
 },
 "nbformat": 4,
 "nbformat_minor": 5
}
